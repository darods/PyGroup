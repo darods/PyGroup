{
 "cells": [
  {
   "cell_type": "markdown",
   "metadata": {},
   "source": [
    "# Entornos virtuales"
   ]
  },
  {
   "cell_type": "markdown",
   "metadata": {},
   "source": [
    "Como seguramente te habrás dado cuenta, existen diferentes versiones de python, dentro de estas, las que mas notables son la versión 2 y 3. \n",
    "\n",
    "Esto conduce al problema de **¿Si tengo en mi computador una versión de python3, como hago para ejecutar un programa que está escrito en python2?** La Solución son los **entornos virtuales**\n",
    "\n",
    "## ¿Qué es un entorno virtual?\n",
    "Un entorno virtual es una serie de archivos que se crean en la carpeta en la que se va a almacenar/desarrollar el proyecto que queremos correr, estos archivos le sirven al interprete de nuestro computador para poder correr el programa con la versión de python que esté en esa carpeta. \n",
    "\n",
    "## Entorno virtual vs Maquina virtual\n",
    "Aunque suenen muy similares, y pareciera que su proposito es el mismo, no lo son para nada similares. Una maquina virtual tiene como proposito simular un ssistema operativo dentro de otro, esto nos seriviría si quisieramos correr una versión de GNU Linux mientras usamos Windows (por lo general esto se hace con el programa VirtualBox) mientras que un entorno virtual solo busca emular la versión de python para correr el proyecto.\n",
    "\n",
    "Es importante mencionar que se puede lograr correr un programa de python de una versión distinta usando una maquina virtual, pero estariamos exagerando ya que requeriría mucho mas tiempo y recursos de computación para lograrlo.\n",
    "\n",
    "## Entornos virtuales con PIP\n",
    "Según Wikipedia \n",
    ">\"pip es un sistema de gestión de paquetes utilizado para instalar y administrar paquetes de software escritos en Python.\" [Más información.](https://es.wikipedia.org/wiki/Pip_(administrador_de_paquetes)) \n",
    "\n",
    "\n",
    "Para empezar necesitaremos tener pip en nuestros computadores, **por lo general cuando instalamos python ya viene con pip**, y esto lo podemos esto lo podemos lograr ver si escribimos `pip -V`, si esto no da resultado entonces podremos obtenerlo de las siguientes maneras:\n",
    "#### Linux basado en Debian/Ubuntu\n",
    "~~~\n",
    "(Puede que necesiten poner sudo antes si no funciona asi)\n",
    "apt install python-pip  #python 2\n",
    "apt install python3-pip #python 3\n",
    "~~~\n",
    "[Otras distribuciones](https://www.tecmint.com/install-pip-in-linux/)\n",
    "#### Windows\n",
    "Este si que es mas complejo, pues primero necesitaran ver si tienen python instalado en sus computadores, esto lo hacen abriendo **cmd** y escribiendo `python`. Para salir escriben `exit()`.\n",
    "\n",
    "* Una vez se hayan sersiorado de que lo tienen instalado, ingresan a [get-pip.py](https://bootstrap.pypa.io/get-pip.py) y guardan el código en la carpeta que deseen.\n",
    "* Abren cmd de nuevo y van hacia la carpeta que contiene el Script\n",
    "* Lo ejecutan ecribiendo `python get-pip.py`\n",
    "* Si tienen mas dudas aqui hay [mas información](https://www.liquidweb.com/kb/install-pip-windows/)\n",
    "\n",
    "## Descarga de virtualenv\n",
    "Ejecutan la siguiente linea en sus terminales `pip install virtualenv`"
   ]
  },
  {
   "cell_type": "markdown",
   "metadata": {},
   "source": [
    "Puede que les haya aparecido una algo así:\n",
    "\n",
    "![error virtualenv permiso](./Imagenes/error_pip_virtualenv.png)\n",
    "\n",
    "En este caso podemos ver que en rojo nos dice que no tenemos permiso para instalar virtualenv, por lo que tendremos que escribir `--user` al finalizar la anterior linea.\n",
    "![resultado al usar --user](./Imagenes/--user_pip_virtualenv.png \"Solución problema de permisos\")\n",
    "\n",
    "También si tienen su versión de pip desactualizada pueden escribir `pip install --upgrade  pip` en la terminal\n",
    "\n",
    "## Creación del entorno virtual\n",
    "En linux, en la carpeta que desean hacer/correr el proyecto `virtualenv environment`\n",
    "\n",
    "![Resultado de la creación](./Imagenes/creacion_virtualenv.png)\n",
    "\n",
    "## Activación entorno virtual\n",
    "Aquí le decimos a nuestro sistema operativo que versión de python usar, para ello escribimos `source environment/bin/activate`\n",
    "\n",
    "![Resultado activación](./Imagenes/activacion_virtualenv.png)\n",
    "\n",
    "### Desactivar\n",
    "Solo escribimos `deactivate`\n",
    "\n",
    "### Eliminar entorno virtual\n",
    "Esto se puede lograr por medio de la interfaz visual solamente borrando la carpeta que lo contiene, aún así en la terminal se puede escrbir `rm -rf environment/`\n",
    "\n",
    "## Descargando librerias\n",
    "Este es quizas una de las partes mas improtantes, si creamos un proyecto desde cero, puede que necesitemos diferentes librerias para realizarlo, entonces usaremos `pip install nombre_libreria`. \n",
    "\n",
    "Como ejemplo usaremos la libreria *pyqtgraph*, la cual es una libreria de visualización para programas cientificos, esta libreria requiere de *numpy, pyqt (4 o 5)* para poderse usar.\n",
    "\n",
    "Escribiremos entonces `pip install pyqtgraph`, si todo ha salido bien, en la penultima linea vamos a ver que ha descargado *numpy* y *pyqtgraph*\n",
    "\n",
    "Ahora haremos un nuevo archivo llamado `ejemplo.py` y escribiremos:"
   ]
  },
  {
   "cell_type": "code",
   "execution_count": null,
   "metadata": {},
   "outputs": [],
   "source": [
    "import pyqtgraph.examples as gtg\n",
    "gtg.run()"
   ]
  },
  {
   "cell_type": "markdown",
   "metadata": {},
   "source": [
    "Si intentamos correr el ejemplo, nos va a decir que nos ha faltado *PyQt4, PyQt5 o PySide*, por lo que tendremos que descargar alguna de esas librerias.\n",
    "\n",
    "Una vez descargada, si ejecutamos nuestro ejemplo veremos una ventana así: \n",
    "![ventana ejemplos pyqtgraph](./Imagenes/ejemplo_pyqtgraph.png)\n",
    "\n",
    "## Subiendo proyecto\n",
    "Una vez hayamos finalizado la intalación de librerias en nuestro proyecto, puede que lo siguiente que queramos sea subirlo a github o gitlab, pero lo ultimo que vamos a querer es subir todas las carpetas que contienen estas librerias, ya que esto haría que el tiempo de subida aumente. Entonces lo primero que vamos a hacer es crear una nuevo repositorio. \n",
    "\n",
    "![creando repo](./Imagenes/creando_repo.png \"creación repositorio github\")\n",
    "\n",
    "\n",
    "Una vesz hayamos sincronizado nuestra carpeta con el repositorio en linea, **NO vamos a hacer un commit**, primero vamos a generar un archivo en el que muestre que librerias tenemos.\n",
    "\n",
    "## pip freeze\n",
    "cuando usamos el comando `pip freeze` en nuestra terminal nos aparecerán las distintas librerias que hemos estado usando durante el desarrollo.\n",
    "![uso pip freeze](./Imagenes/pip_freeze.png)\n",
    "\n",
    "\n",
    "Ahora, con esta información vamos a generar un archivo en cual se escriban estas librerias, con su versión para luego poder ejecutar nuestro proyecto en otros computadores. Esto lo podemos hacer escribiendo `pip freeze -> requerimientos.txt`, si todo ha funcionado, debería aparecer un nuevo archivo llamado `requerimientos.txt` en la carpeta.\n",
    "\n",
    "Ahora vamos a crear un archivo llamado `.gitignore`, este nos va a permitir no incluir partes de nuestro proyecto que al final no sean necesarias. Dentro de este vamos a escribir :\n",
    "\n",
    "~~~\n",
    "environment/\n",
    "___pycache__/\n",
    "~~~\n",
    "\n",
    "Ahora si est\n"
   ]
  }
 ],
 "metadata": {
  "kernelspec": {
   "display_name": "Python 3",
   "language": "python",
   "name": "python3"
  },
  "language_info": {
   "codemirror_mode": {
    "name": "ipython",
    "version": 3
   },
   "file_extension": ".py",
   "mimetype": "text/x-python",
   "name": "python",
   "nbconvert_exporter": "python",
   "pygments_lexer": "ipython3",
   "version": "3.7.3"
  }
 },
 "nbformat": 4,
 "nbformat_minor": 2
}
