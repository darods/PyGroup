{
 "cells": [
  {
   "cell_type": "markdown",
   "metadata": {},
   "source": [
    "#  Juego de plataformas\n",
    "En esta segunda clase de pygame haremos un juego de plataformas"
   ]
  },
  {
   "cell_type": "markdown",
   "metadata": {},
   "source": [
    "Antes de empezar tendremos que organizar nuestro juego de una manera que nos permita la comprensión de nuestro código y el facil desarrollo de este.\n",
    "\n",
    "Si pensamos en un juego, las partes de este que se nos vienen a la cabeza son :\n",
    "\n",
    "* configuración :  sitio que nos dice el titulo, los colores, el tamaño de la pantalla, etc...\n",
    "* un metodo que inicia nuestro juego\n",
    "* un metodo que corra el juego\n",
    "* una parte que actualiza lo que ocurre en el juego\n",
    "* sección de eventos\n",
    "* sección de dibujado\n",
    "\n",
    "Lo primero que haremos, es que vamos a dividir nuestro código en varios archivos, el primero que haremos será uno llamado __\"configuracion.py\"__ que nos servirá para definir los parametros como el ancho y el alto de la pantalla, los colores que usaremos y mucho mas."
   ]
  },
  {
   "cell_type": "code",
   "execution_count": null,
   "metadata": {},
   "outputs": [],
   "source": [
    "Titulo = \"lo que sea\"\n",
    "Ancho = 1000\n",
    "Alto = 500\n",
    "FPS = 30 # la cantidad de cuadros por segundo\n",
    "\n",
    "\n",
    "# Algunos colores\n",
    "Blanco = (255, 255, 255)\n",
    "Negro = (0, 0, 0)\n",
    "Rojo = (255, 0, 0)\n",
    "Verde = (0, 255, 0)\n",
    "Azul = (0, 0, 255)"
   ]
  },
  {
   "cell_type": "markdown",
   "metadata": {},
   "source": [
    "Ahora vamos a crear un archivo __\"main.py\"__ en el que vamos a poner todo lo necesario para que nuestros juegos corran."
   ]
  },
  {
   "cell_type": "code",
   "execution_count": null,
   "metadata": {},
   "outputs": [],
   "source": [
    "import pygame as pg # el \"as\" nos sirve para renombrar la libreria y no tener que escribir pygame todo el tiempo\n",
    "from configuracion import * # importamos todo lo de configuracion.py, el * sirve para no escribir configuracion.algo\n",
    "\n",
    "\n",
    "class Juego:\n",
    "    def __init__(self):\n",
    "        pg.init()\n",
    "        self.ventana = pg.display.set_mode((Ancho, Alto))\n",
    "        pg.display.set_caption(Titulo)\n",
    "        self.clock = pg.time.Clock() # metodo de pygame con el que establecemos los FPS\n",
    "        self.corriendo = True # variable que establece que está corriendo el juego\n",
    "\n",
    "    def nuevo(self):\n",
    "        # inicia un nuevo juego\n",
    "        self.all_sprites = pg.sprite.Group()\n",
    "        self.run()\n",
    "\n",
    "    def run(self):\n",
    "        # loop del juego\n",
    "        self.jugando = True\n",
    "        while self.jugando:\n",
    "            self.clock.tick(FPS) # Decimos a cuantos cuadros por segundo va a correr\n",
    "            self.eventos()\n",
    "            self.actualizar()\n",
    "            self.draw()\n",
    "\n",
    "    def actualizar(self):\n",
    "        self.all_sprites.update()\n",
    "\n",
    "    def eventos(self):\n",
    "        for event in pg.event.get():\n",
    "            if event.type == pg.QUIT:  # Se sale del juego\n",
    "                self.jugando = False\n",
    "                self.corriendo = False\n",
    "\n",
    "        key = pg.key.get_pressed()\n",
    "\n",
    "    def draw(self):\n",
    "        self.ventana.fill(Blanco)\n",
    "        self.all_sprites.draw(self.ventana)\n",
    "        pg.display.flip()\n",
    "\n",
    "    # los siguientes metodos nos servirán para hacer una pantalla de inicio y de muerte, pero no son necesarios\n",
    "    def pantalla_inicio(self):\n",
    "        pass\n",
    "\n",
    "    def pantalla_fin(self):\n",
    "        pass\n",
    "\n",
    "\n",
    "juego = Juego() # declaramos el juego\n",
    "juego.pantalla_inicio()\n",
    "while juego.corriendo:\n",
    "    juego.nuevo()\n",
    "    juego.pantalla_fin()\n",
    "\n",
    "pg.quit()"
   ]
  },
  {
   "cell_type": "markdown",
   "metadata": {},
   "source": [
    "### Bibliografía\n",
    "Este documento está fuertemente inspirado por la serie de tutoriales hechos por el canal \"KidsCanCode\" en youtube, la lista de reproducción de sus tutoriales es : https://www.youtube.com/playlist?list=PLsk-HSGFjnaH5yghzu7PcOzm9NhsW0Urw "
   ]
  }
 ],
 "metadata": {
  "kernelspec": {
   "display_name": "Python 3",
   "language": "python",
   "name": "python3"
  },
  "language_info": {
   "codemirror_mode": {
    "name": "ipython",
    "version": 3
   },
   "file_extension": ".py",
   "mimetype": "text/x-python",
   "name": "python",
   "nbconvert_exporter": "python",
   "pygments_lexer": "ipython3",
   "version": "3.7.3"
  }
 },
 "nbformat": 4,
 "nbformat_minor": 2
}
