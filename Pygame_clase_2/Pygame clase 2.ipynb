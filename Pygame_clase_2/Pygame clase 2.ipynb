{
 "cells": [
  {
   "cell_type": "markdown",
   "metadata": {},
   "source": [
    "#  Pygame : Clase 2\n"
   ]
  },
  {
   "cell_type": "markdown",
   "metadata": {},
   "source": [
    "## Game loop\n",
    "Cada vez que inicimos un juego, podemos pensar que tiene que repetir la misma serie de acciones desde que oprimos _start_ hasta que finaliza, a este ciclo se le conoce como __game loop__\n",
    "\n",
    "Los pasos que se nos vienen a la cabeza son :\n",
    "1. Pantalla de inicio\n",
    "2. Correr un juego nuevo (dependerá de si hay puntos de guardado)\n",
    "3. Pantalla de fin\n",
    "\n",
    "Vamos a ver como sería escrito en python."
   ]
  },
  {
   "cell_type": "code",
   "execution_count": null,
   "metadata": {},
   "outputs": [],
   "source": [
    "# Por \"norma\" llamaremos a este archivo main.py\n",
    "import pygame as pg  # el 'as' sirve para hacer abreviaciones\n",
    "from configuracion import *\n",
    "# el * nos sirve para usar otro archivo sin tener que hacer referencia directa\n",
    "\n",
    "\n",
    "class Juego:\n",
    "    def __init__(self):  # Se inicializa todo lo necesario para que corra\n",
    "        pg.init()\n",
    "        # Las variables que están en MAYÚSCULAS se colocarán en un archivo adicional llamado configuracion.py\n",
    "        self.ventana = pg.display.set_mode((ANCHO, ALTO))\n",
    "        pg.display.set_caption(TITULO)\n",
    "        self.clock = pg.time.Clock()\n",
    "        self.corriendo = True\n",
    "\n",
    "    def nuevo(self):  # inicia un nuevo juego\n",
    "        # Aquí colocaremos todos los elementos del juego\n",
    "        self.run()\n",
    "\n",
    "    def run(self):  # loop del juego\n",
    "        self.jugando = True\n",
    "        while self.jugando:\n",
    "            self.clock.tick(FPS)\n",
    "            self.eventos()\n",
    "            self.actualizar()\n",
    "            self.draw()\n",
    "\n",
    "    def eventos(self):\n",
    "        for event in pg.event.get():\n",
    "            if event.type == pg.QUIT:  # Se sale del juego\n",
    "                if self.jugando:\n",
    "                    self.jugando = False\n",
    "                self.corriendo = False\n",
    "\n",
    "    def actualizar(self):  # Revisará que ha cambiado y tomará decisiones\n",
    "        pass\n",
    "\n",
    "    def draw(self):  # Re dibuja la pantalla\n",
    "        pass\n",
    "\n",
    "    def pantalla_inicio(self):\n",
    "        pass\n",
    "\n",
    "    def pantalla_fin(self):\n",
    "        pass\n",
    "\n",
    "\n",
    "juego = Juego()\n",
    "juego.pantalla_inicio()\n",
    "while juego.corriendo:\n",
    "    juego.nuevo()\n",
    "    juego.pantalla_fin()\n",
    "\n",
    "pg.quit()\n",
    "    "
   ]
  },
  {
   "cell_type": "code",
   "execution_count": null,
   "metadata": {},
   "outputs": [],
   "source": [
    "# configuracion.py\n",
    "ANCHO = 500\n",
    "ALTO = 300\n",
    "TITULO = 'GAME LOOP'\n",
    "FPS = 60"
   ]
  },
  {
   "cell_type": "markdown",
   "metadata": {},
   "source": [
    "De ahora en adelante todos los juegos y ejemplos hechos aquí tendrán la misma estructura."
   ]
  },
  {
   "cell_type": "markdown",
   "metadata": {},
   "source": [
    "### Bibliografía\n",
    "Este documento está fuertemente inspirado por la serie de tutoriales hechos por el canal \"KidsCanCode\" en youtube, la lista de reproducción de sus tutoriales es : https://www.youtube.com/playlist?list=PLsk-HSGFjnaH5yghzu7PcOzm9NhsW0Urw "
   ]
  }
 ],
 "metadata": {
  "kernelspec": {
   "display_name": "Python 3",
   "language": "python",
   "name": "python3"
  },
  "language_info": {
   "codemirror_mode": {
    "name": "ipython",
    "version": 3
   },
   "file_extension": ".py",
   "mimetype": "text/x-python",
   "name": "python",
   "nbconvert_exporter": "python",
   "pygments_lexer": "ipython3",
   "version": "3.7.3"
  }
 },
 "nbformat": 4,
 "nbformat_minor": 2
}
