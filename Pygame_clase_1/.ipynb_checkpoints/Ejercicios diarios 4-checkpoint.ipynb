{
 "cells": [
  {
   "cell_type": "markdown",
   "metadata": {},
   "source": [
    "![Diario](https://i.imgur.com/Qj6mmCC.png)"
   ]
  },
  {
   "cell_type": "markdown",
   "metadata": {},
   "source": [
    "## Lunes y martes\n",
    "Una vez hayas descargado e instalado pygame, haz una modificación al pong construido en clase tal que los dos jugadores no estén en los bordes izquierdos y derecho de la pantalla, sino **arriba** y **abajo** y que se manajen de manera coherente con sus nuevas posiciones."
   ]
  },
  {
   "cell_type": "markdown",
   "metadata": {},
   "source": [
    "## Miercoles\n",
    "Una vez hecha la tarea anterior, reacomoda los distintos elementos en pantalla, como la linea de la mitad y el marcador, para que se pueda jugar correctamente."
   ]
  },
  {
   "cell_type": "markdown",
   "metadata": {},
   "source": [
    "## Jueves\n",
    "Cambia el fondo del juego por una imagen\n"
   ]
  },
  {
   "cell_type": "markdown",
   "metadata": {},
   "source": [
    "## Viernes\n",
    "Añade un aviso que diga **\"Jugador x gana\"** una vez se hayan completado 5 puntos, despues haz que se reinicie el juego."
   ]
  },
  {
   "cell_type": "markdown",
   "metadata": {},
   "source": [
    "## Sábado y domingo\n",
    "Disfruta de tu fin de semana, hacer una pausa es otra efectiva herramienta para mantener la información. Recuerda hacer cada ejercicio en un día de la semana, y no todos en un día."
   ]
  },
  {
   "cell_type": "markdown",
   "metadata": {},
   "source": [
    "![Footer](https://i.imgur.com/6SIDZ4G.png)"
   ]
  }
 ],
 "metadata": {
  "kernelspec": {
   "display_name": "Python 3",
   "language": "python",
   "name": "python3"
  },
  "language_info": {
   "codemirror_mode": {
    "name": "ipython",
    "version": 3
   },
   "file_extension": ".py",
   "mimetype": "text/x-python",
   "name": "python",
   "nbconvert_exporter": "python",
   "pygments_lexer": "ipython3",
   "version": "3.7.3"
  }
 },
 "nbformat": 4,
 "nbformat_minor": 2
}
