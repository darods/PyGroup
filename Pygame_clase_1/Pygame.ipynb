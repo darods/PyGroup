{
 "cells": [
  {
   "cell_type": "markdown",
   "metadata": {},
   "source": [
    "#  Introducción a PyGame"
   ]
  },
  {
   "cell_type": "markdown",
   "metadata": {},
   "source": [
    "Pygame es una liberia que nos permite hacer videojeugos principalmente en 2 dimensiones, como lo son los juegos de plataformas.\n",
    "\n",
    "Para empezar a usar pygame en nuestros proyectos tendremos que instalarlo en __nuestro entorno virutal__, para hacer esto tendremos que ejecutar el siguiente comando:"
   ]
  },
  {
   "cell_type": "code",
   "execution_count": 2,
   "metadata": {},
   "outputs": [
    {
     "name": "stdout",
     "output_type": "stream",
     "text": [
      "Requirement already satisfied: pygame in /home/nasa/anaconda3/lib/python3.7/site-packages (1.9.6)\n",
      "\u001b[31mERROR: Error checking for conflicts.\n",
      "Traceback (most recent call last):\n",
      "  File \"/home/nasa/anaconda3/lib/python3.7/site-packages/pip/_vendor/pkg_resources/__init__.py\", line 3012, in _dep_map\n",
      "    return self.__dep_map\n",
      "  File \"/home/nasa/anaconda3/lib/python3.7/site-packages/pip/_vendor/pkg_resources/__init__.py\", line 2806, in __getattr__\n",
      "    raise AttributeError(attr)\n",
      "AttributeError: _DistInfoDistribution__dep_map\n",
      "\n",
      "During handling of the above exception, another exception occurred:\n",
      "\n",
      "Traceback (most recent call last):\n",
      "  File \"/home/nasa/anaconda3/lib/python3.7/site-packages/pip/_vendor/pkg_resources/__init__.py\", line 3003, in _parsed_pkg_info\n",
      "    return self._pkg_info\n",
      "  File \"/home/nasa/anaconda3/lib/python3.7/site-packages/pip/_vendor/pkg_resources/__init__.py\", line 2806, in __getattr__\n",
      "    raise AttributeError(attr)\n",
      "AttributeError: _pkg_info\n",
      "\n",
      "During handling of the above exception, another exception occurred:\n",
      "\n",
      "Traceback (most recent call last):\n",
      "  File \"/home/nasa/anaconda3/lib/python3.7/site-packages/pip/_internal/commands/install.py\", line 524, in _warn_about_conflicts\n",
      "    package_set, _dep_info = check_install_conflicts(to_install)\n",
      "  File \"/home/nasa/anaconda3/lib/python3.7/site-packages/pip/_internal/operations/check.py\", line 108, in check_install_conflicts\n",
      "    package_set, _ = create_package_set_from_installed()\n",
      "  File \"/home/nasa/anaconda3/lib/python3.7/site-packages/pip/_internal/operations/check.py\", line 47, in create_package_set_from_installed\n",
      "    package_set[name] = PackageDetails(dist.version, dist.requires())\n",
      "  File \"/home/nasa/anaconda3/lib/python3.7/site-packages/pip/_vendor/pkg_resources/__init__.py\", line 2727, in requires\n",
      "    dm = self._dep_map\n",
      "  File \"/home/nasa/anaconda3/lib/python3.7/site-packages/pip/_vendor/pkg_resources/__init__.py\", line 3014, in _dep_map\n",
      "    self.__dep_map = self._compute_dependencies()\n",
      "  File \"/home/nasa/anaconda3/lib/python3.7/site-packages/pip/_vendor/pkg_resources/__init__.py\", line 3023, in _compute_dependencies\n",
      "    for req in self._parsed_pkg_info.get_all('Requires-Dist') or []:\n",
      "  File \"/home/nasa/anaconda3/lib/python3.7/site-packages/pip/_vendor/pkg_resources/__init__.py\", line 3005, in _parsed_pkg_info\n",
      "    metadata = self.get_metadata(self.PKG_INFO)\n",
      "  File \"/home/nasa/anaconda3/lib/python3.7/site-packages/pip/_vendor/pkg_resources/__init__.py\", line 1419, in get_metadata\n",
      "    value = self._get(self._fn(self.egg_info, name))\n",
      "  File \"/home/nasa/anaconda3/lib/python3.7/site-packages/pip/_vendor/pkg_resources/__init__.py\", line 1607, in _get\n",
      "    with open(path, 'rb') as stream:\n",
      "FileNotFoundError: [Errno 2] No existe el archivo o el directorio: '/home/nasa/.local/lib/python3.7/site-packages/pip-19.0.1.dist-info/METADATA'\u001b[0m\n"
     ]
    }
   ],
   "source": [
    "# Install a pip package in the current Jupyter kernel\n",
    "import sys\n",
    "!{sys.executable} -m pip install pygame\n",
    "\n"
   ]
  },
  {
   "cell_type": "markdown",
   "metadata": {},
   "source": [
    "** Se hace de esta manera porque estamos en un Jupyter notebook"
   ]
  },
  {
   "cell_type": "code",
   "execution_count": 5,
   "metadata": {},
   "outputs": [],
   "source": [
    "# Esta es la forma como se ejecutaría en un proyecto\n",
    "## Tienen que estar en la carpeta de su proyecto!\n",
    "\n",
    "# pip install pygame"
   ]
  },
  {
   "cell_type": "markdown",
   "metadata": {},
   "source": [
    "Lo primero que haremos será importar la libreria en el modulo (archivo) que estemos trabajando"
   ]
  },
  {
   "cell_type": "code",
   "execution_count": 3,
   "metadata": {},
   "outputs": [
    {
     "name": "stdout",
     "output_type": "stream",
     "text": [
      "pygame 1.9.6\n",
      "Hello from the pygame community. https://www.pygame.org/contribute.html\n"
     ]
    }
   ],
   "source": [
    "import pygame"
   ]
  },
  {
   "cell_type": "markdown",
   "metadata": {},
   "source": [
    "Lo primero que necesita nuestro juego es una ventana, para hacer esto tenemos que:"
   ]
  },
  {
   "cell_type": "code",
   "execution_count": 4,
   "metadata": {},
   "outputs": [],
   "source": [
    "import pygame\n",
    "pygame.init()\n",
    "ventana = pygame.display.set_mode((500,500))# definimos el tamaño de pixeles de nuestra pantalla\n",
    "pygame.display.set_caption(\"hola mundo!\")# de esta manera definimos el titulo de nuestra pantalla"
   ]
  },
  {
   "cell_type": "markdown",
   "metadata": {},
   "source": [
    "Nos produce un error porque no sabe cuando cerrarse"
   ]
  },
  {
   "cell_type": "code",
   "execution_count": 3,
   "metadata": {},
   "outputs": [],
   "source": [
    "import pygame\n",
    "pygame.init()\n",
    "ventana = pygame.display.set_mode((500,500))\n",
    "pygame.display.set_caption(\"hola mundo!\")\n",
    "\n",
    "run = True \n",
    "while run : # Decimos que mientras corriendo sea verdadero\n",
    "    for event in pygame.event.get(): # Dentro de este for definireos todos nuestros eventos \n",
    "        if event.type == pygame.QUIT: # Si un click es en la 'x', entonces ya no se va a correr\n",
    "            run = False\n",
    "            \n",
    "pygame.quit() # Se cierra pygame"
   ]
  },
  {
   "attachments": {
    "imagen.png": {
     "image/png": "[encoded data removed]"
    }
   },
   "cell_type": "markdown",
   "metadata": {},
   "source": [
    "## Dibujar en pantalla!\n",
    "Nuestro proposito ahora va a ser el de dibujar una caja y moverla con el teclado, para esto necesitamos comprender lo siguiente.\n",
    "\n",
    "### Figuras basicas\n",
    "Pygame tiene el modulo *pygame.draw* que nos sirve para dibujar figuras comunes, como rectangulos, circulos, lineas, etc..., todas las figuras comparten los paramatros de : \n",
    "* surface\n",
    "* color\n",
    "\n",
    "Sin embargo cada figura tiene unos parametros especificos, [haz click para saber mas.](https://www.pygame.org/docs/ref/draw.html)\n",
    "\n",
    "#### Dibujar una caja\n",
    "la función *pygame.draw.rect()* nos permite hacerlo. Los parametros que recibe son :\n",
    "* surface : la superficie en la cual se dibuja\n",
    "* color : puede ser un color, un entero o una tupla (RGB)\n",
    "* rect : la posición y dimensiones del rectangulo\n",
    "* width : grosor de la linea de dibujo\n",
    "\n",
    "![imagen.png](attachment:imagen.png)\n",
    "\n"
   ]
  },
  {
   "cell_type": "code",
   "execution_count": 2,
   "metadata": {},
   "outputs": [],
   "source": [
    "import pygame\n",
    "pygame.init()\n",
    "ventana = pygame.display.set_mode((500,500))\n",
    "pygame.display.set_caption(\"mi cajita xd!\")\n",
    "\n",
    "pos_x = 50\n",
    "pos_y = 50\n",
    "ancho = 50\n",
    "alto = 50\n",
    "color = (255,0,0)\n",
    "\n",
    "run = True \n",
    "while run : # Decimos que mientras corriendo sea verdadero\n",
    "    for event in pygame.event.get(): # Dentro de este for definireos todos nuestros eventos \n",
    "        if event.type == pygame.QUIT: # Si un click es en la 'x', entonces ya no se va a correr\n",
    "            run = False\n",
    "\n",
    "    pygame.draw.rect(ventana,color,(pos_x, pos_y, ancho, alto))\n",
    "    pygame.display.update()\n",
    "pygame.quit() # Se cierra pygame"
   ]
  },
  {
   "cell_type": "markdown",
   "metadata": {},
   "source": [
    "## Que es un evento?\n",
    "Los eventos en los videojuegos son las situaciones que permiten que podamos interctuar con nuestro juego, nos sirven para decir que va a ocurrir cuando oprimimos una tecla, pero tambien nos pueden servir para definir como interactuamos con nuestro entorno.\n",
    "\n",
    "### Eventos en Pygame\n",
    "El modulo *pygame.event* maneja los eventos como colas, el manejo de estas colas depende mucho del modulo *pygame.display*, si la pantalla no se ha inicializado, tiende a fallar el manejo de eventos.\n",
    "\n",
    "Los eventos mas comunes son : \n",
    "![imagen.png](attachment:imagen.png)\n",
    "\n",
    "Por el momento solo nos va a interesar la rutina *pygame.event.get()*. [Más información sobre los eventos dentro de pygame](https://www.pygame.org/docs/ref/event.html) "
   ]
  },
  {
   "cell_type": "code",
   "execution_count": 17,
   "metadata": {},
   "outputs": [],
   "source": [
    "import pygame\n",
    "pygame.init()\n",
    "ventana = pygame.display.set_mode((500,500))\n",
    "pygame.display.set_caption(\"mi cajita xd!\")\n",
    "\n",
    "pos_x = 50\n",
    "pos_y = 50\n",
    "ancho = 50\n",
    "alto = 50\n",
    "color = (255,0,0)\n",
    "\n",
    "# para mover la caja vamos a crear el valor de \"velocidad\"\n",
    "velocidad = 5\n",
    "\n",
    "run = True \n",
    "while run : # Decimos que mientras corriendo sea verdadero\n",
    "    \n",
    "    # reloj de nuestro juego\n",
    "    pygame.time.delay(100) # hace una pausa entre cada for de 100 ms\n",
    "    \n",
    "    for event in pygame.event.get(): # Dentro de este for definireos todos nuestros eventos \n",
    "        if event.type == pygame.QUIT: # Si un click es en la 'x', entonces ya no se va a correr\n",
    "            run = False\n",
    "\n",
    "    key = pygame.key.get_pressed()\n",
    "        \n",
    "    if key[pygame.K_LEFT]:\n",
    "        pos_x -= velocidad\n",
    "    if key[pygame.K_RIGHT]:\n",
    "        pos_x += velocidad\n",
    "    if key[pygame.K_UP]:\n",
    "        pos_y -= velocidad\n",
    "    if key[pygame.K_DOWN]:\n",
    "        pos_y += velocidad\n",
    "    \n",
    "    ventana.fill((0, 100, 0)) # llenamos la pantalla con un color para que no se vea el rectangulo regado\n",
    "    pygame.draw.rect(ventana,color,(pos_x, pos_y, ancho, alto))\n",
    "    \n",
    "    pygame.display.update()\n",
    "pygame.quit() # Se cierra pygame"
   ]
  },
  {
   "cell_type": "markdown",
   "metadata": {},
   "source": [
    "# Converisión a objetos\n",
    "Vamos a pasar nuestro código al paradigma POO, esto nos servirá para ahorrarnos una buena cantidad de lineas de código a la larga, y para entender nuestro juego de una manera mas intuitiva."
   ]
  },
  {
   "cell_type": "code",
   "execution_count": 2,
   "metadata": {},
   "outputs": [],
   "source": [
    "import pygame\n",
    "pygame.init()\n",
    "ventana = pygame.display.set_mode((500, 500))\n",
    "pygame.display.set_caption(\"mi cajita xd!\")\n",
    "\n",
    "\n",
    "class cajita_xd:\n",
    "    def __init__(self):\n",
    "        self.i = 0\n",
    "        self.pos_x = 50\n",
    "        self.pos_y = 50\n",
    "        self.ancho = 50\n",
    "        self.alto = 50\n",
    "        self.color = (255, 0, 0)\n",
    "        self.velocidad = 5\n",
    "\n",
    "    def mover_der(self):\n",
    "        self.pos_x += self.velocidad\n",
    "\n",
    "    def mover_izq(self):\n",
    "        self.pos_x -= self.velocidad\n",
    "\n",
    "    def mover_arriba(self):\n",
    "        self.pos_y -= self.velocidad\n",
    "\n",
    "    def mover_abajo(self):\n",
    "        self.pos_y += self.velocidad\n",
    "\n",
    "    def dibujar(self):\n",
    "        pygame.draw.rect(ventana, self.color, (self.pos_x,\n",
    "                                               self.pos_y,\n",
    "                                               self.ancho,\n",
    "                                               self.alto))\n",
    "\n",
    "\n",
    "caja = cajita_xd()\n",
    "run = True\n",
    "while run:  # Decimos que mientras corriendo sea verdadero\n",
    "\n",
    "    # reloj de nuestro juego\n",
    "    pygame.time.delay(30)  # hace una pausa entre cada for de 100 ms\n",
    "\n",
    "    for event in pygame.event.get():  # Dentro de este for definireos todos nuestros eventos\n",
    "        if event.type == pygame.QUIT:  # Si un click es en la 'x', entonces ya no se va a correr\n",
    "            run = False\n",
    "\n",
    "    key = pygame.key.get_pressed()\n",
    "    # Decimos que se puede mover si se oprime x tecla y no supera los margenes de la pantalla\n",
    "    if key[pygame.K_LEFT]:\n",
    "        caja.mover_izq()\n",
    "    if key[pygame.K_RIGHT]:\n",
    "        caja.mover_der()\n",
    "    if key[pygame.K_UP]:\n",
    "        caja.mover_arriba()\n",
    "    if key[pygame.K_DOWN]:\n",
    "        caja.mover_abajo()\n",
    "\n",
    "    # llenamos la pantalla con un color para que no se vea el rectangulo regado\n",
    "    ventana.fill((0, 100, 0)) \n",
    "    # llenamos primero la pantalla y luego pintamos el cuadrado para poder verlo\n",
    "    caja.dibujar()\n",
    "\n",
    "\n",
    "    pygame.display.update()\n",
    "pygame.quit()  # Se cierra pygame\n"
   ]
  },
  {
   "cell_type": "markdown",
   "metadata": {},
   "source": [
    "# Colisiones\n",
    "En todo juego, las colisiones son una parte fundamental, en pygame se manejan las colisiones se manejan de dos formas\n",
    "\n",
    "* Se dice que si se pasa de cierta coordenada pasa algo\n",
    "* Se dice que dos objetos colisionan\n",
    "\n",
    "Aunque parezca que la primera forma es una tontería, es la forma mas sencilla de simular una colisión, es muy util si los objetos son estaticos.\n",
    "\n",
    "## Cajas de colisión (hitboxes)\n",
    "Es la segunda forma de implementar la colisiones. Seguramente te has preguntado porque a veces cuando juegas algún juego de disparos, mueres cuando claramente no te han dado, esto es debido a la hitbox.\n",
    "\n",
    "Una caja de colisión es, como su nombre lo indica, una caja que cuando colisiona con algo, responde de cierta manera.\n",
    "\n",
    "el metodo __.colliderect(rectangulo_x)__ nos permite identificar las colisiones, su implementación general es:\n"
   ]
  },
  {
   "cell_type": "code",
   "execution_count": null,
   "metadata": {},
   "outputs": [],
   "source": [
    "rectangulo_1 = pygame.Rect(x, y, ancho, alto)\n",
    "rectangulo_2 = pygame.Rect(x2, y2, ancho2, alto2)\n",
    "\n",
    "if(rectangulo_1.colliderec(rectangulo_2)):\n",
    "    print(\"colisión\")"
   ]
  },
  {
   "cell_type": "markdown",
   "metadata": {},
   "source": [
    "Para saber más sobre las funciones de _pygame.Rect()_ haz click [aquí](https://www.pygame.org/docs/ref/rect.html).\n",
    "Ahora vamos a implementar un metodo que nos devuelva el rectangulo asociado a nuestra cajita_xd, y vamos a hacerlo colisionar\n",
    "con otro rectangulo."
   ]
  },
  {
   "cell_type": "code",
   "execution_count": 3,
   "metadata": {},
   "outputs": [
    {
     "name": "stdout",
     "output_type": "stream",
     "text": [
      "0\n",
      "1\n",
      "2\n",
      "3\n",
      "4\n",
      "5\n",
      "6\n",
      "7\n",
      "8\n",
      "9\n",
      "10\n",
      "11\n",
      "12\n",
      "13\n",
      "14\n",
      "15\n",
      "16\n",
      "17\n",
      "18\n",
      "19\n",
      "20\n",
      "21\n",
      "22\n",
      "23\n",
      "24\n",
      "25\n",
      "26\n",
      "27\n",
      "28\n",
      "29\n",
      "30\n",
      "31\n",
      "32\n",
      "33\n",
      "34\n",
      "35\n",
      "36\n",
      "37\n",
      "38\n",
      "39\n",
      "40\n",
      "41\n",
      "42\n",
      "43\n",
      "44\n",
      "45\n",
      "46\n",
      "47\n",
      "48\n",
      "49\n",
      "50\n",
      "51\n",
      "52\n",
      "53\n",
      "54\n",
      "55\n",
      "56\n",
      "57\n",
      "58\n",
      "59\n"
     ]
    }
   ],
   "source": [
    "import pygame\n",
    "pygame.init()\n",
    "ventana = pygame.display.set_mode((500, 500))\n",
    "pygame.display.set_caption(\"mi cajita xd!\")\n",
    "\n",
    "\n",
    "class cajita_xd:\n",
    "    def __init__(self):\n",
    "        self.i = 0\n",
    "        self.pos_x = 50\n",
    "        self.pos_y = 50\n",
    "        self.ancho = 50\n",
    "        self.alto = 50\n",
    "        self.color = (255, 0, 0)\n",
    "        self.velocidad = 5\n",
    "        self.hitbox = (self.pos_x + 10, self.pos_y + 10, 70, 70)\n",
    "\n",
    "    def mover_der(self):\n",
    "        self.pos_x += self.velocidad\n",
    "\n",
    "    def mover_izq(self):\n",
    "        self.pos_x -= self.velocidad\n",
    "\n",
    "    def mover_arriba(self):\n",
    "        self.pos_y -= self.velocidad\n",
    "\n",
    "    def mover_abajo(self):\n",
    "        self.pos_y += self.velocidad\n",
    "\n",
    "    def dibujar(self):\n",
    "        pygame.draw.rect(ventana, self.color, (self.pos_x,\n",
    "                                               self.pos_y,\n",
    "                                               self.ancho,\n",
    "                                               self.alto))\n",
    "    # Metodo que devuelve un rectangulo que no se ve, sirve para \n",
    "    # implmentar el metodo que nos permite saber si hubo una colsión\n",
    "    def get_rect(self):\n",
    "        return pygame.Rect(self.pos_x, self.pos_y, self.ancho, self.alto)\n",
    "\n",
    "\n",
    "i = 0\n",
    "caja = cajita_xd()\n",
    "run = True\n",
    "while run:  # Decimos que mientras corriendo sea verdadero\n",
    "\n",
    "    # reloj de nuestro juego\n",
    "    pygame.time.delay(30)  # hace una pausa entre cada for de 100 ms\n",
    "\n",
    "    for event in pygame.event.get():  # Dentro de este for definireos todos nuestros eventos\n",
    "        if event.type == pygame.QUIT:  # Si un click es en la 'x', entonces ya no se va a correr\n",
    "            run = False\n",
    "\n",
    "    key = pygame.key.get_pressed()\n",
    "    # Decimos que se puede mover si se oprime x tecla y no supera los margenes de la pantalla\n",
    "    if key[pygame.K_LEFT] and caja.pos_x > 0:\n",
    "        caja.mover_izq()\n",
    "    if key[pygame.K_RIGHT] and caja.pos_x < 450:\n",
    "        caja.mover_der()\n",
    "    if key[pygame.K_UP] and caja.pos_y > 0:\n",
    "        caja.mover_arriba()\n",
    "    if key[pygame.K_DOWN] and caja.pos_y < 450:\n",
    "        caja.mover_abajo()\n",
    "\n",
    "    # llenamos la pantalla con un color para que no se vea el rectangulo regado\n",
    "    ventana.fill((0, 100, 0))\n",
    "    caja.dibujar()\n",
    "    pygame.draw.rect(ventana, (255, 0, 0), (80, 80, 50, 50))\n",
    "    rectangulo = pygame.Rect(80, 80, 50, 50)\n",
    "\n",
    "    if(caja.get_rect().colliderect(rectangulo)):\n",
    "        print(i)\n",
    "        i += 1\n",
    "    pygame.display.update()\n",
    "pygame.quit()  # Se cierra pygame\n",
    "\n"
   ]
  },
  {
   "cell_type": "markdown",
   "metadata": {},
   "source": [
    "# Imágenes\n"
   ]
  },
  {
   "cell_type": "markdown",
   "metadata": {},
   "source": [
    "### Fuentes\n",
    "* https://www.youtube.com/watch?v=i6xMBig-pP4\n"
   ]
  }
 ],
 "metadata": {
  "kernelspec": {
   "display_name": "Python 3",
   "language": "python",
   "name": "python3"
  },
  "language_info": {
   "codemirror_mode": {
    "name": "ipython",
    "version": 3
   },
   "file_extension": ".py",
   "mimetype": "text/x-python",
   "name": "python",
   "nbconvert_exporter": "python",
   "pygments_lexer": "ipython3",
   "version": "3.7.3"
  }
 },
 "nbformat": 4,
 "nbformat_minor": 2
}
