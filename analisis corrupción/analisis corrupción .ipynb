{
 "cells": [
  {
   "cell_type": "code",
   "execution_count": 7,
   "metadata": {},
   "outputs": [
    {
     "data": {
      "text/plain": [
       "pandas.core.series.Series"
      ]
     },
     "execution_count": 7,
     "metadata": {},
     "output_type": "execute_result"
    }
   ],
   "source": [
    "import pandas as pd\n",
    "import numpy as np\n",
    "#df = pd.read_csv('./SECOP_I.csv', names=['UID','Anno Firma del Contrato'], low_memory=False)\n",
    "df = pd.read_csv('./SECOP_I.csv')\n",
    "df\n",
    "\n",
    "list(df.columns)\n",
    "type (df['Anno Firma del Contrato'])"
   ]
  },
  {
   "cell_type": "markdown",
   "metadata": {},
   "source": [
    "Como el análisis se va a enfocar en la busqueda de cosas \"extrañas\" dentro de los contratos, porque lamentablemente no se puede determinar si hay corrupción en con est herramienta, o por lo menos no con tantos datos, lo que se busca es generar alertas para que los entes goburnamentales entren a revisar lo que se encuentran y ellos decidan si hay o no corrupción.\n",
    "\n",
    "Vamos a hacer las siguientes suposiciones para nuestro análisis:\n",
    "* Si el contrato vale mucho y dura muy pocos días, es porque hay algo extraño\n",
    "* No es común que se se añada mucho tiempo en las adiciones\n",
    "* Tendremos que revisar cual es el valor de estas adiciones\n",
    "\n",
    "Entonces seleccionaremos las columnas que nos permitan visualizar lo que esta ocurriendo, estas son:\n",
    "* UID\n",
    "* Anno Firma del Contrato\n",
    "* Rango de Ejec del Contrato\n",
    "* Tiempo de Adiciones en Dias\n",
    "* Tiempo de Adiciones en Meses\n",
    "* Compromiso Presupuestal\n",
    "* Cuantia Contrato\n",
    "* Valor Contrato con Adiciones\n",
    "\n",
    "Entonces vamos a reducir el data frame incluyendo solo estas"
   ]
  },
  {
   "cell_type": "code",
   "execution_count": 2,
   "metadata": {},
   "outputs": [
    {
     "name": "stderr",
     "output_type": "stream",
     "text": [
      "C:\\Users\\RITA\\Anaconda3\\lib\\site-packages\\IPython\\core\\interactiveshell.py:3057: DtypeWarning: Columns (1,2,7,8,12,14,25,28,30,32,42,44,45,48,49,50,52,54,57,65) have mixed types. Specify dtype option on import or set low_memory=False.\n",
      "  interactivity=interactivity, compiler=compiler, result=result)\n"
     ]
    },
    {
     "data": {
      "text/plain": [
       "['UID',\n",
       " 'Anno Firma del Contrato',\n",
       " 'Plazo de Ejec del Contrato',\n",
       " 'Rango de Ejec del Contrato',\n",
       " 'Tiempo Adiciones en Dias',\n",
       " 'Tiempo Adiciones en Meses',\n",
       " 'Compromiso Presupuestal',\n",
       " 'Cuantia Contrato',\n",
       " 'Valor Total de Adiciones',\n",
       " 'Valor Contrato con Adiciones']"
      ]
     },
     "execution_count": 2,
     "metadata": {},
     "output_type": "execute_result"
    }
   ],
   "source": [
    "df = pd.read_csv('./SECOP_I.csv', names=['UID', 'Anno Firma del Contrato', 'Plazo de Ejec del Contrato', 'Rango de Ejec del Contrato', 'Tiempo Adiciones en Dias', 'Tiempo Adiciones en Meses', 'Compromiso Presupuestal','Cuantia Contrato', 'Valor Total de Adiciones', 'Valor Contrato con Adiciones'], dtype={\"UID\": int, \"username\": object})\n",
    "\n",
    "#df = pd.read_csv('./SECOP_I.csv', names=['UID','Anno Firma del Contrato', 'Plazo de Ejec del Contrato'])\n",
    "list(df.columns)\n",
    "\n"
   ]
  },
  {
   "cell_type": "markdown",
   "metadata": {},
   "source": [
    "Lo primero que vamos a ver es la relación que hay entre cada contrato y la cuantia del contrato\n"
   ]
  },
  {
   "cell_type": "code",
   "execution_count": 3,
   "metadata": {},
   "outputs": [],
   "source": [
    "import pandas as pd\n",
    "import numpy as np\n",
    "df = pd.read_csv('./SECOP_I.csv')\n",
    "import matplotlib.pyplot as plt\n",
    "plt.close('all')\n",
    "#plt.barh(df['UID'], df['Cuantia Contrato'])\n",
    "#plt.show()"
   ]
  }
 ],
 "metadata": {
  "kernelspec": {
   "display_name": "Python 3",
   "language": "python",
   "name": "python3"
  },
  "language_info": {
   "codemirror_mode": {
    "name": "ipython",
    "version": 3
   },
   "file_extension": ".py",
   "mimetype": "text/x-python",
   "name": "python",
   "nbconvert_exporter": "python",
   "pygments_lexer": "ipython3",
   "version": "3.7.3"
  }
 },
 "nbformat": 4,
 "nbformat_minor": 2
}
